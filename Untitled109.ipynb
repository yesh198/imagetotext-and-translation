{
 "cells": [
  {
   "cell_type": "code",
   "execution_count": null,
   "id": "4a60f446",
   "metadata": {},
   "outputs": [],
   "source": []
  },
  {
   "cell_type": "code",
   "execution_count": 63,
   "id": "9e1db5cf",
   "metadata": {},
   "outputs": [],
   "source": [
    "import cv2\n",
    "import pytesseract as tess\n",
    "import warnings\n",
    "warnings.simplefilter('ignore')\n"
   ]
  },
  {
   "cell_type": "code",
   "execution_count": 64,
   "id": "c0638b65",
   "metadata": {},
   "outputs": [],
   "source": [
    "tess.pytesseract.tesseract_cmd = r\"C:\\Users\\hp\\AppData\\Local\\Programs\\Tesseract-OCR\\tesseract.exe\"\n",
    "#img = cv2.imread(r'E:\\python codes\\Example-of-a-single-sided-German-language-proclamation-printed-for-the-German-government.png')\n",
    "#img = cv2.imread('/content/Example-of-a-single-sided-German-language-proclamation-printed-for-the-German-government.png')\n",
    "#img = cv2.imread(\"E:\\python codes\\images (1).jpg\")\n",
    "#img = cv2.imread(\"E:\\python codes\\images.jpg\")\n",
    "img = cv2.imread(\"E:\\python codes\\german-sign-on-a-lamppost-at-the-edge-of-the-road-you-are-acting-disorderly-CXR85W.jpg\")"
   ]
  },
  {
   "cell_type": "code",
   "execution_count": 65,
   "id": "0eeb4727",
   "metadata": {},
   "outputs": [],
   "source": [
    "imggray = cv2.cvtColor(img,cv2.COLOR_BGR2GRAY)\n",
    "\n",
    "\n",
    "\n"
   ]
  },
  {
   "cell_type": "code",
   "execution_count": 66,
   "id": "abea6992",
   "metadata": {},
   "outputs": [],
   "source": [
    "canny = cv2.Canny(imggray,250,250)\n",
    "thres = cv2.threshold(imggray, 0,255,cv2.THRESH_BINARY| cv2.THRESH_OTSU)[1]\n",
    "\n",
    "words = tess.image_to_string(thres,lang = 'deu')"
   ]
  },
  {
   "cell_type": "code",
   "execution_count": 67,
   "id": "67b9976b",
   "metadata": {},
   "outputs": [
    {
     "name": "stdout",
     "output_type": "stream",
     "text": [
      "Sie handeln ordnungswidrig, wenn Sie\n",
      "ihr Fahrzeug zum Zwecke des Verkaufs\n",
      "auf öffentlichem *77 3enland abstellen.\n",
      "\n",
      "Dieser Straßenabschnitt wird regelmäßig |\n",
      "\n",
      "überwacht, und Sie müssen mit einer\n",
      "Galdbuße für Ihr Handeln rec! 42n\n",
      "\n",
      "\n"
     ]
    }
   ],
   "source": [
    "print(words)"
   ]
  },
  {
   "cell_type": "code",
   "execution_count": 68,
   "id": "856710ab",
   "metadata": {},
   "outputs": [
    {
     "name": "stdout",
     "output_type": "stream",
     "text": [
      "Sie handeln ordnungswidrig  wenn Sie ihr Fahrzeug zum Zwecke des Verkaufs auf  ffentlichem      enland abstellen   Dieser Stra enabschnitt wird regelm  ig     berwacht  und Sie m ssen mit einer Galdbu e f r Ihr Handeln rec    n  \n"
     ]
    }
   ],
   "source": [
    "import re\n",
    "r = re.sub('[^a-zA-Z]',' ',words)\n",
    "print(r)"
   ]
  },
  {
   "cell_type": "code",
   "execution_count": 69,
   "id": "c4b582c6",
   "metadata": {},
   "outputs": [],
   "source": [
    "from transformers import AutoTokenizer,AutoModelForSeq2SeqLM"
   ]
  },
  {
   "cell_type": "code",
   "execution_count": 70,
   "id": "18d66892",
   "metadata": {},
   "outputs": [
    {
     "name": "stderr",
     "output_type": "stream",
     "text": [
      "Special tokens have been added in the vocabulary, make sure the associated word embeddings are fine-tuned or trained.\n"
     ]
    }
   ],
   "source": [
    "tokenizer = AutoTokenizer.from_pretrained('google/bert2bert_L-24_wmt_de_en',pad_token = \"<pad>\",eos_token = \"</s>\")"
   ]
  },
  {
   "cell_type": "code",
   "execution_count": 71,
   "id": "d4acea1e",
   "metadata": {},
   "outputs": [],
   "source": [
    "model  = AutoModelForSeq2SeqLM.from_pretrained(\"google/bert2bert_L-24_wmt_de_en\")"
   ]
  },
  {
   "cell_type": "code",
   "execution_count": 72,
   "id": "d3c078cf",
   "metadata": {},
   "outputs": [],
   "source": [
    "input_ids = tokenizer(words,return_tensors = \"pt\",add_special_tokens =False).input_ids"
   ]
  },
  {
   "cell_type": "code",
   "execution_count": 73,
   "id": "2255272f",
   "metadata": {},
   "outputs": [],
   "source": [
    "output_ids = model.generate(input_ids)[0]"
   ]
  },
  {
   "cell_type": "code",
   "execution_count": 74,
   "id": "1c279946",
   "metadata": {},
   "outputs": [
    {
     "name": "stdout",
     "output_type": "stream",
     "text": [
      "<s> This street section is subject to regulation | they must deal with a fine for you rec! 42nn!\n"
     ]
    }
   ],
   "source": [
    "print(tokenizer.decode(output_ids,skip_special_tokens = True))"
   ]
  },
  {
   "cell_type": "code",
   "execution_count": null,
   "id": "3082b4a0",
   "metadata": {},
   "outputs": [],
   "source": []
  },
  {
   "cell_type": "code",
   "execution_count": null,
   "id": "f8649910",
   "metadata": {},
   "outputs": [],
   "source": []
  }
 ],
 "metadata": {
  "kernelspec": {
   "display_name": "Python 3 (ipykernel)",
   "language": "python",
   "name": "python3"
  },
  "language_info": {
   "codemirror_mode": {
    "name": "ipython",
    "version": 3
   },
   "file_extension": ".py",
   "mimetype": "text/x-python",
   "name": "python",
   "nbconvert_exporter": "python",
   "pygments_lexer": "ipython3",
   "version": "3.10.8"
  }
 },
 "nbformat": 4,
 "nbformat_minor": 5
}
